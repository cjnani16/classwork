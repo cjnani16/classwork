{
 "cells": [
  {
   "cell_type": "markdown",
   "metadata": {
    "tags": [
     "pdf-title"
    ]
   },
   "source": [
    "# Softmax exercise\n",
    "\n",
    "*Complete and hand in this completed worksheet (including its outputs and any supporting code outside of the worksheet) with your assignment submission. For more details see the [assignments page](http://vision.stanford.edu/teaching/cs231n/assignments.html) on the course website.*\n",
    "\n",
    "This exercise is analogous to the SVM exercise. You will:\n",
    "\n",
    "- implement a fully-vectorized **loss function** for the Softmax classifier\n",
    "- implement the fully-vectorized expression for its **analytic gradient**\n",
    "- **check your implementation** with numerical gradient\n",
    "- use a validation set to **tune the learning rate and regularization** strength\n",
    "- **optimize** the loss function with **SGD**\n",
    "- **visualize** the final learned weights\n"
   ]
  },
  {
   "cell_type": "code",
   "execution_count": 1,
   "metadata": {
    "tags": [
     "pdf-ignore"
    ]
   },
   "outputs": [],
   "source": [
    "import random\n",
    "import numpy as np\n",
    "from cs231n.data_utils import load_CIFAR10\n",
    "import matplotlib.pyplot as plt\n",
    "\n",
    "%matplotlib inline\n",
    "plt.rcParams['figure.figsize'] = (10.0, 8.0) # set default size of plots\n",
    "plt.rcParams['image.interpolation'] = 'nearest'\n",
    "plt.rcParams['image.cmap'] = 'gray'\n",
    "\n",
    "# for auto-reloading extenrnal modules\n",
    "# see http://stackoverflow.com/questions/1907993/autoreload-of-modules-in-ipython\n",
    "%load_ext autoreload\n",
    "%autoreload 2"
   ]
  },
  {
   "cell_type": "code",
   "execution_count": 3,
   "metadata": {
    "tags": [
     "pdf-ignore"
    ]
   },
   "outputs": [
    {
     "name": "stdout",
     "output_type": "stream",
     "text": [
      "Train data shape:  (49000, 3073)\n",
      "Train labels shape:  (49000,)\n",
      "Validation data shape:  (1000, 3073)\n",
      "Validation labels shape:  (1000,)\n",
      "Test data shape:  (1000, 3073)\n",
      "Test labels shape:  (1000,)\n",
      "dev data shape:  (500, 3073)\n",
      "dev labels shape:  (500,)\n"
     ]
    }
   ],
   "source": [
    "def get_CIFAR10_data(num_training=49000, num_validation=1000, num_test=1000, num_dev=500):\n",
    "    \"\"\"\n",
    "    Load the CIFAR-10 dataset from disk and perform preprocessing to prepare\n",
    "    it for the linear classifier. These are the same steps as we used for the\n",
    "    SVM, but condensed to a single function.  \n",
    "    \"\"\"\n",
    "    # Load the raw CIFAR-10 data\n",
    "    cifar10_dir = 'cs231n/datasets/cifar-10-batches-py'\n",
    "    \n",
    "    # Cleaning up variables to prevent loading data multiple times (which may cause memory issue)\n",
    "    try:\n",
    "       del X_train, y_train\n",
    "       del X_test, y_test\n",
    "       print('Clear previously loaded data.')\n",
    "    except:\n",
    "       pass\n",
    "\n",
    "    X_train, y_train, X_test, y_test = load_CIFAR10(cifar10_dir)\n",
    "    \n",
    "    # subsample the data\n",
    "    mask = list(range(num_training, num_training + num_validation))\n",
    "    X_val = X_train[mask]\n",
    "    y_val = y_train[mask]\n",
    "    mask = list(range(num_training))\n",
    "    X_train = X_train[mask]\n",
    "    y_train = y_train[mask]\n",
    "    mask = list(range(num_test))\n",
    "    X_test = X_test[mask]\n",
    "    y_test = y_test[mask]\n",
    "    mask = np.random.choice(num_training, num_dev, replace=False)\n",
    "    X_dev = X_train[mask]\n",
    "    y_dev = y_train[mask]\n",
    "    \n",
    "    # Preprocessing: reshape the image data into rows\n",
    "    X_train = np.reshape(X_train, (X_train.shape[0], -1))\n",
    "    X_val = np.reshape(X_val, (X_val.shape[0], -1))\n",
    "    X_test = np.reshape(X_test, (X_test.shape[0], -1))\n",
    "    X_dev = np.reshape(X_dev, (X_dev.shape[0], -1))\n",
    "    \n",
    "    # Normalize the data: subtract the mean image\n",
    "    mean_image = np.mean(X_train, axis = 0)\n",
    "    X_train -= mean_image\n",
    "    X_val -= mean_image\n",
    "    X_test -= mean_image\n",
    "    X_dev -= mean_image\n",
    "    \n",
    "    # add bias dimension and transform into columns\n",
    "    X_train = np.hstack([X_train, np.ones((X_train.shape[0], 1))])\n",
    "    X_val = np.hstack([X_val, np.ones((X_val.shape[0], 1))])\n",
    "    X_test = np.hstack([X_test, np.ones((X_test.shape[0], 1))])\n",
    "    X_dev = np.hstack([X_dev, np.ones((X_dev.shape[0], 1))])\n",
    "    \n",
    "    return X_train, y_train, X_val, y_val, X_test, y_test, X_dev, y_dev\n",
    "\n",
    "\n",
    "# Invoke the above function to get our data.\n",
    "X_train, y_train, X_val, y_val, X_test, y_test, X_dev, y_dev = get_CIFAR10_data()\n",
    "print('Train data shape: ', X_train.shape)\n",
    "print('Train labels shape: ', y_train.shape)\n",
    "print('Validation data shape: ', X_val.shape)\n",
    "print('Validation labels shape: ', y_val.shape)\n",
    "print('Test data shape: ', X_test.shape)\n",
    "print('Test labels shape: ', y_test.shape)\n",
    "print('dev data shape: ', X_dev.shape)\n",
    "print('dev labels shape: ', y_dev.shape)"
   ]
  },
  {
   "cell_type": "markdown",
   "metadata": {},
   "source": [
    "## Softmax Classifier\n",
    "\n",
    "Your code for this section will all be written inside **cs231n/classifiers/softmax.py**. \n"
   ]
  },
  {
   "cell_type": "code",
   "execution_count": 26,
   "metadata": {},
   "outputs": [
    {
     "name": "stdout",
     "output_type": "stream",
     "text": [
      "loss: 2.331291\n",
      "sanity check: 2.302585\n"
     ]
    }
   ],
   "source": [
    "# First implement the naive softmax loss function with nested loops.\n",
    "# Open the file cs231n/classifiers/softmax.py and implement the\n",
    "# softmax_loss_naive function.\n",
    "\n",
    "from cs231n.classifiers.softmax import softmax_loss_naive\n",
    "import time\n",
    "\n",
    "# Generate a random softmax weight matrix and use it to compute the loss.\n",
    "W = np.random.randn(3073, 10) * 0.0001\n",
    "loss, grad = softmax_loss_naive(W, X_dev, y_dev, 0.0)\n",
    "\n",
    "# As a rough sanity check, our loss should be something close to -log(0.1).\n",
    "print('loss: %f' % loss)\n",
    "print('sanity check: %f' % (-np.log(0.1)))"
   ]
  },
  {
   "cell_type": "markdown",
   "metadata": {
    "tags": [
     "pdf-inline"
    ]
   },
   "source": [
    "**Inline Question 1**\n",
    "\n",
    "Why do we expect our loss to be close to -log(0.1)? Explain briefly.**\n",
    "\n",
    "$\\color{blue}{\\textit Your Answer:}$ Withg 10 classes, random chance gives a 1/10 or 0.1 chance to get the correct class, meaning that the \"log probability\" of the correct class, the softmax's loss function, should be about -log(0.1).\n",
    "\n"
   ]
  },
  {
   "cell_type": "code",
   "execution_count": 96,
   "metadata": {},
   "outputs": [
    {
     "name": "stdout",
     "output_type": "stream",
     "text": [
      "numerical: 1.659833 analytic: 1.659832, relative error: 3.367626e-08\n",
      "numerical: -1.359423 analytic: -1.359423, relative error: 3.813230e-08\n",
      "numerical: 0.262690 analytic: 0.262690, relative error: 7.807496e-08\n",
      "numerical: 0.260485 analytic: 0.260485, relative error: 2.428047e-07\n",
      "numerical: 3.186805 analytic: 3.186805, relative error: 1.529181e-08\n",
      "numerical: -0.133671 analytic: -0.133671, relative error: 4.307653e-07\n",
      "numerical: 1.465872 analytic: 1.465873, relative error: 1.407267e-08\n",
      "numerical: 0.450397 analytic: 0.450397, relative error: 3.315398e-08\n",
      "numerical: -1.619753 analytic: -1.619753, relative error: 1.698572e-08\n",
      "numerical: -0.740496 analytic: -0.740496, relative error: 5.615728e-08\n",
      "numerical: 0.210287 analytic: 0.210287, relative error: 1.618553e-08\n",
      "numerical: 1.038310 analytic: 1.038310, relative error: 5.956410e-08\n",
      "numerical: -2.159982 analytic: -2.159982, relative error: 9.671621e-09\n",
      "numerical: -0.929786 analytic: -0.929786, relative error: 3.893478e-08\n",
      "numerical: 2.992666 analytic: 2.992666, relative error: 1.987621e-08\n",
      "numerical: 3.160100 analytic: 3.160100, relative error: 1.985018e-08\n",
      "numerical: 2.033895 analytic: 2.033895, relative error: 4.995504e-09\n",
      "numerical: -0.711310 analytic: -0.711310, relative error: 4.264022e-08\n",
      "numerical: -4.717660 analytic: -4.717660, relative error: 2.321304e-08\n",
      "numerical: 0.106126 analytic: 0.106125, relative error: 3.661198e-07\n"
     ]
    }
   ],
   "source": [
    "# Complete the implementation of softmax_loss_naive and implement a (naive)\n",
    "# version of the gradient that uses nested loops.\n",
    "loss, grad = softmax_loss_naive(W, X_dev, y_dev, 0.0)\n",
    "\n",
    "# As we did for the SVM, use numeric gradient checking as a debugging tool.\n",
    "# The numeric gradient should be close to the analytic gradient.\n",
    "from cs231n.gradient_check import grad_check_sparse\n",
    "f = lambda w: softmax_loss_naive(w, X_dev, y_dev, 0.0)[0]\n",
    "grad_numerical = grad_check_sparse(f, W, grad, 10)\n",
    "\n",
    "# similar to SVM case, do another gradient check with regularization\n",
    "loss, grad = softmax_loss_naive(W, X_dev, y_dev, 5e1)\n",
    "f = lambda w: softmax_loss_naive(w, X_dev, y_dev, 5e1)[0]\n",
    "grad_numerical = grad_check_sparse(f, W, grad, 10)"
   ]
  },
  {
   "cell_type": "code",
   "execution_count": 97,
   "metadata": {},
   "outputs": [
    {
     "name": "stdout",
     "output_type": "stream",
     "text": [
      "naive loss: 2.331291e+00 computed in 0.156582s\n",
      "vectorized loss: 2.331291e+00 computed in 0.002996s\n",
      "Loss difference: 0.000000\n",
      "Gradient difference: 0.000000\n"
     ]
    }
   ],
   "source": [
    "# Now that we have a naive implementation of the softmax loss function and its gradient,\n",
    "# implement a vectorized version in softmax_loss_vectorized.\n",
    "# The two versions should compute the same results, but the vectorized version should be\n",
    "# much faster.\n",
    "tic = time.time()\n",
    "loss_naive, grad_naive = softmax_loss_naive(W, X_dev, y_dev, 0.000005)\n",
    "toc = time.time()\n",
    "print('naive loss: %e computed in %fs' % (loss_naive, toc - tic))\n",
    "\n",
    "from cs231n.classifiers.softmax import softmax_loss_vectorized\n",
    "tic = time.time()\n",
    "loss_vectorized, grad_vectorized = softmax_loss_vectorized(W, X_dev, y_dev, 0.000005)\n",
    "toc = time.time()\n",
    "print('vectorized loss: %e computed in %fs' % (loss_vectorized, toc - tic))\n",
    "\n",
    "# As we did for the SVM, we use the Frobenius norm to compare the two versions\n",
    "# of the gradient.\n",
    "grad_difference = np.linalg.norm(grad_naive - grad_vectorized, ord='fro')\n",
    "print('Loss difference: %f' % np.abs(loss_naive - loss_vectorized))\n",
    "print('Gradient difference: %f' % grad_difference)"
   ]
  },
  {
   "cell_type": "code",
   "execution_count": 108,
   "metadata": {
    "tags": [
     "code"
    ]
   },
   "outputs": [
    {
     "name": "stdout",
     "output_type": "stream",
     "text": [
      "lr 1.000000e-07 reg 2.500000e+04 train accuracy: 0.313796 val accuracy: 0.327000\n",
      "lr 1.000000e-07 reg 2.750000e+04 train accuracy: 0.315694 val accuracy: 0.318000\n",
      "lr 1.000000e-07 reg 3.000000e+04 train accuracy: 0.315939 val accuracy: 0.327000\n",
      "lr 1.000000e-07 reg 3.250000e+04 train accuracy: 0.315204 val accuracy: 0.333000\n",
      "lr 1.000000e-07 reg 3.500000e+04 train accuracy: 0.310510 val accuracy: 0.324000\n",
      "lr 1.000000e-07 reg 3.750000e+04 train accuracy: 0.314347 val accuracy: 0.336000\n",
      "lr 1.000000e-07 reg 4.000000e+04 train accuracy: 0.313000 val accuracy: 0.320000\n",
      "lr 1.000000e-07 reg 4.250000e+04 train accuracy: 0.314755 val accuracy: 0.323000\n",
      "lr 1.000000e-07 reg 4.500000e+04 train accuracy: 0.305898 val accuracy: 0.322000\n",
      "lr 1.000000e-07 reg 4.750000e+04 train accuracy: 0.305204 val accuracy: 0.326000\n",
      "lr 1.400000e-07 reg 2.500000e+04 train accuracy: 0.322694 val accuracy: 0.334000\n",
      "lr 1.400000e-07 reg 2.750000e+04 train accuracy: 0.317286 val accuracy: 0.334000\n",
      "lr 1.400000e-07 reg 3.000000e+04 train accuracy: 0.320041 val accuracy: 0.337000\n",
      "lr 1.400000e-07 reg 3.250000e+04 train accuracy: 0.316694 val accuracy: 0.331000\n",
      "lr 1.400000e-07 reg 3.500000e+04 train accuracy: 0.324939 val accuracy: 0.333000\n",
      "lr 1.400000e-07 reg 3.750000e+04 train accuracy: 0.309939 val accuracy: 0.322000\n",
      "lr 1.400000e-07 reg 4.000000e+04 train accuracy: 0.312837 val accuracy: 0.325000\n",
      "lr 1.400000e-07 reg 4.250000e+04 train accuracy: 0.311367 val accuracy: 0.319000\n",
      "lr 1.400000e-07 reg 4.500000e+04 train accuracy: 0.310571 val accuracy: 0.321000\n",
      "lr 1.400000e-07 reg 4.750000e+04 train accuracy: 0.306918 val accuracy: 0.325000\n",
      "lr 1.800000e-07 reg 2.500000e+04 train accuracy: 0.336347 val accuracy: 0.352000\n",
      "lr 1.800000e-07 reg 2.750000e+04 train accuracy: 0.331020 val accuracy: 0.347000\n",
      "lr 1.800000e-07 reg 3.000000e+04 train accuracy: 0.331306 val accuracy: 0.347000\n",
      "lr 1.800000e-07 reg 3.250000e+04 train accuracy: 0.318367 val accuracy: 0.335000\n",
      "lr 1.800000e-07 reg 3.500000e+04 train accuracy: 0.321510 val accuracy: 0.338000\n",
      "lr 1.800000e-07 reg 3.750000e+04 train accuracy: 0.314755 val accuracy: 0.331000\n",
      "lr 1.800000e-07 reg 4.000000e+04 train accuracy: 0.320184 val accuracy: 0.336000\n",
      "lr 1.800000e-07 reg 4.250000e+04 train accuracy: 0.306837 val accuracy: 0.321000\n",
      "lr 1.800000e-07 reg 4.500000e+04 train accuracy: 0.313224 val accuracy: 0.318000\n",
      "lr 1.800000e-07 reg 4.750000e+04 train accuracy: 0.310449 val accuracy: 0.326000\n",
      "lr 2.200000e-07 reg 2.500000e+04 train accuracy: 0.328429 val accuracy: 0.341000\n",
      "lr 2.200000e-07 reg 2.750000e+04 train accuracy: 0.322265 val accuracy: 0.339000\n",
      "lr 2.200000e-07 reg 3.000000e+04 train accuracy: 0.316592 val accuracy: 0.340000\n",
      "lr 2.200000e-07 reg 3.250000e+04 train accuracy: 0.324816 val accuracy: 0.341000\n",
      "lr 2.200000e-07 reg 3.500000e+04 train accuracy: 0.314735 val accuracy: 0.335000\n",
      "lr 2.200000e-07 reg 3.750000e+04 train accuracy: 0.311367 val accuracy: 0.338000\n",
      "lr 2.200000e-07 reg 4.000000e+04 train accuracy: 0.306755 val accuracy: 0.329000\n",
      "lr 2.200000e-07 reg 4.250000e+04 train accuracy: 0.311020 val accuracy: 0.318000\n",
      "lr 2.200000e-07 reg 4.500000e+04 train accuracy: 0.302918 val accuracy: 0.321000\n",
      "lr 2.200000e-07 reg 4.750000e+04 train accuracy: 0.305510 val accuracy: 0.312000\n",
      "lr 2.600000e-07 reg 2.500000e+04 train accuracy: 0.326837 val accuracy: 0.343000\n",
      "lr 2.600000e-07 reg 2.750000e+04 train accuracy: 0.327612 val accuracy: 0.336000\n",
      "lr 2.600000e-07 reg 3.000000e+04 train accuracy: 0.319837 val accuracy: 0.329000\n",
      "lr 2.600000e-07 reg 3.250000e+04 train accuracy: 0.316347 val accuracy: 0.332000\n",
      "lr 2.600000e-07 reg 3.500000e+04 train accuracy: 0.316959 val accuracy: 0.333000\n",
      "lr 2.600000e-07 reg 3.750000e+04 train accuracy: 0.308163 val accuracy: 0.327000\n",
      "lr 2.600000e-07 reg 4.000000e+04 train accuracy: 0.301184 val accuracy: 0.311000\n",
      "lr 2.600000e-07 reg 4.250000e+04 train accuracy: 0.314041 val accuracy: 0.333000\n",
      "lr 2.600000e-07 reg 4.500000e+04 train accuracy: 0.306816 val accuracy: 0.321000\n",
      "lr 2.600000e-07 reg 4.750000e+04 train accuracy: 0.308694 val accuracy: 0.310000\n",
      "lr 3.000000e-07 reg 2.500000e+04 train accuracy: 0.324388 val accuracy: 0.340000\n",
      "lr 3.000000e-07 reg 2.750000e+04 train accuracy: 0.317837 val accuracy: 0.330000\n",
      "lr 3.000000e-07 reg 3.000000e+04 train accuracy: 0.326592 val accuracy: 0.335000\n",
      "lr 3.000000e-07 reg 3.250000e+04 train accuracy: 0.322286 val accuracy: 0.338000\n",
      "lr 3.000000e-07 reg 3.500000e+04 train accuracy: 0.321143 val accuracy: 0.326000\n",
      "lr 3.000000e-07 reg 3.750000e+04 train accuracy: 0.316510 val accuracy: 0.328000\n",
      "lr 3.000000e-07 reg 4.000000e+04 train accuracy: 0.316286 val accuracy: 0.326000\n",
      "lr 3.000000e-07 reg 4.250000e+04 train accuracy: 0.316367 val accuracy: 0.334000\n",
      "lr 3.000000e-07 reg 4.500000e+04 train accuracy: 0.304694 val accuracy: 0.318000\n",
      "lr 3.000000e-07 reg 4.750000e+04 train accuracy: 0.313286 val accuracy: 0.321000\n",
      "lr 3.400000e-07 reg 2.500000e+04 train accuracy: 0.326796 val accuracy: 0.335000\n",
      "lr 3.400000e-07 reg 2.750000e+04 train accuracy: 0.327551 val accuracy: 0.335000\n",
      "lr 3.400000e-07 reg 3.000000e+04 train accuracy: 0.315531 val accuracy: 0.329000\n",
      "lr 3.400000e-07 reg 3.250000e+04 train accuracy: 0.316122 val accuracy: 0.336000\n",
      "lr 3.400000e-07 reg 3.500000e+04 train accuracy: 0.317714 val accuracy: 0.334000\n",
      "lr 3.400000e-07 reg 3.750000e+04 train accuracy: 0.317449 val accuracy: 0.327000\n",
      "lr 3.400000e-07 reg 4.000000e+04 train accuracy: 0.310122 val accuracy: 0.328000\n",
      "lr 3.400000e-07 reg 4.250000e+04 train accuracy: 0.317694 val accuracy: 0.323000\n",
      "lr 3.400000e-07 reg 4.500000e+04 train accuracy: 0.296633 val accuracy: 0.316000\n",
      "lr 3.400000e-07 reg 4.750000e+04 train accuracy: 0.307490 val accuracy: 0.327000\n",
      "lr 3.800000e-07 reg 2.500000e+04 train accuracy: 0.324204 val accuracy: 0.332000\n",
      "lr 3.800000e-07 reg 2.750000e+04 train accuracy: 0.320939 val accuracy: 0.344000\n",
      "lr 3.800000e-07 reg 3.000000e+04 train accuracy: 0.324898 val accuracy: 0.332000\n",
      "lr 3.800000e-07 reg 3.250000e+04 train accuracy: 0.311061 val accuracy: 0.332000\n",
      "lr 3.800000e-07 reg 3.500000e+04 train accuracy: 0.320612 val accuracy: 0.343000\n",
      "lr 3.800000e-07 reg 3.750000e+04 train accuracy: 0.314673 val accuracy: 0.324000\n",
      "lr 3.800000e-07 reg 4.000000e+04 train accuracy: 0.299755 val accuracy: 0.317000\n",
      "lr 3.800000e-07 reg 4.250000e+04 train accuracy: 0.314653 val accuracy: 0.328000\n",
      "lr 3.800000e-07 reg 4.500000e+04 train accuracy: 0.315510 val accuracy: 0.332000\n",
      "lr 3.800000e-07 reg 4.750000e+04 train accuracy: 0.295469 val accuracy: 0.317000\n",
      "lr 4.200000e-07 reg 2.500000e+04 train accuracy: 0.318592 val accuracy: 0.355000\n",
      "lr 4.200000e-07 reg 2.750000e+04 train accuracy: 0.320918 val accuracy: 0.344000\n",
      "lr 4.200000e-07 reg 3.000000e+04 train accuracy: 0.319796 val accuracy: 0.341000\n",
      "lr 4.200000e-07 reg 3.250000e+04 train accuracy: 0.311224 val accuracy: 0.327000\n",
      "lr 4.200000e-07 reg 3.500000e+04 train accuracy: 0.309837 val accuracy: 0.331000\n",
      "lr 4.200000e-07 reg 3.750000e+04 train accuracy: 0.310367 val accuracy: 0.341000\n",
      "lr 4.200000e-07 reg 4.000000e+04 train accuracy: 0.316939 val accuracy: 0.334000\n",
      "lr 4.200000e-07 reg 4.250000e+04 train accuracy: 0.309755 val accuracy: 0.327000\n",
      "lr 4.200000e-07 reg 4.500000e+04 train accuracy: 0.314898 val accuracy: 0.315000\n",
      "lr 4.200000e-07 reg 4.750000e+04 train accuracy: 0.293551 val accuracy: 0.310000\n",
      "lr 4.600000e-07 reg 2.500000e+04 train accuracy: 0.330490 val accuracy: 0.347000\n",
      "lr 4.600000e-07 reg 2.750000e+04 train accuracy: 0.332204 val accuracy: 0.349000\n",
      "lr 4.600000e-07 reg 3.000000e+04 train accuracy: 0.318796 val accuracy: 0.333000\n",
      "lr 4.600000e-07 reg 3.250000e+04 train accuracy: 0.311837 val accuracy: 0.329000\n",
      "lr 4.600000e-07 reg 3.500000e+04 train accuracy: 0.322918 val accuracy: 0.325000\n",
      "lr 4.600000e-07 reg 3.750000e+04 train accuracy: 0.297612 val accuracy: 0.314000\n",
      "lr 4.600000e-07 reg 4.000000e+04 train accuracy: 0.316735 val accuracy: 0.341000\n",
      "lr 4.600000e-07 reg 4.250000e+04 train accuracy: 0.300755 val accuracy: 0.325000\n",
      "lr 4.600000e-07 reg 4.500000e+04 train accuracy: 0.305571 val accuracy: 0.330000\n",
      "lr 4.600000e-07 reg 4.750000e+04 train accuracy: 0.312673 val accuracy: 0.317000\n",
      "best validation accuracy achieved during cross-validation: 0.355000\n"
     ]
    }
   ],
   "source": [
    "# Use the validation set to tune hyperparameters (regularization strength and\n",
    "# learning rate). You should experiment with different ranges for the learning\n",
    "# rates and regularization strengths; if you are careful you should be able to\n",
    "# get a classification accuracy of over 0.35 on the validation set.\n",
    "from cs231n.classifiers import Softmax\n",
    "results = {}\n",
    "best_val = -1\n",
    "best_softmax = None\n",
    "learning_rates = [1e-7, 5e-7]\n",
    "regularization_strengths = [2.5e4, 5e4]\n",
    "\n",
    "################################################################################\n",
    "# TODO:                                                                        #\n",
    "# Use the validation set to set the learning rate and regularization strength. #\n",
    "# This should be identical to the validation that you did for the SVM; save    #\n",
    "# the best trained softmax classifer in best_softmax.                          #\n",
    "################################################################################\n",
    "# *****START OF YOUR CODE (DO NOT DELETE/MODIFY THIS LINE)*****\n",
    "\n",
    "for lr in np.arange(learning_rates[0],learning_rates[1],np.diff(learning_rates)/10):\n",
    "    for rs in np.arange(regularization_strengths[0],regularization_strengths[1],np.diff(regularization_strengths)/10):\n",
    "        softm = Softmax()\n",
    "        loss_hist = softm.train(X_train, y_train, learning_rate=lr, reg=rs,\n",
    "                              num_iters=500, verbose=False)\n",
    "        \n",
    "        Yt = softm.predict(X_train)\n",
    "        Yp = softm.predict(X_val)\n",
    "        \n",
    "        t_num_correct = np.sum(Yt == y_train)\n",
    "        t_accuracy = float(t_num_correct) / X_train.shape[0]\n",
    "        \n",
    "        v_num_correct = np.sum(Yp == y_val)\n",
    "        v_accuracy = float(v_num_correct) / X_val.shape[0]\n",
    "        \n",
    "        results[(lr,rs)] = (t_accuracy ,v_accuracy)\n",
    "        \n",
    "        if (best_val<v_accuracy):\n",
    "            best_val = v_accuracy\n",
    "            best_softmax = softm\n",
    "\n",
    "# *****END OF YOUR CODE (DO NOT DELETE/MODIFY THIS LINE)*****\n",
    "    \n",
    "# Print out results.\n",
    "for lr, reg in sorted(results):\n",
    "    train_accuracy, val_accuracy = results[(lr, reg)]\n",
    "    print('lr %e reg %e train accuracy: %f val accuracy: %f' % (\n",
    "                lr, reg, train_accuracy, val_accuracy))\n",
    "    \n",
    "print('best validation accuracy achieved during cross-validation: %f' % best_val)"
   ]
  },
  {
   "cell_type": "code",
   "execution_count": 106,
   "metadata": {},
   "outputs": [
    {
     "name": "stdout",
     "output_type": "stream",
     "text": [
      "softmax on raw pixels final test set accuracy: 0.355000\n"
     ]
    }
   ],
   "source": [
    "# evaluate on test set\n",
    "# Evaluate the best softmax on test set\n",
    "y_test_pred = best_softmax.predict(X_test)\n",
    "test_accuracy = np.mean(y_test == y_test_pred)\n",
    "print('softmax on raw pixels final test set accuracy: %f' % (test_accuracy, ))"
   ]
  },
  {
   "cell_type": "markdown",
   "metadata": {
    "tags": [
     "pdf-inline"
    ]
   },
   "source": [
    "**Inline Question 2** - *True or False*\n",
    "\n",
    "Suppose the overall training loss is defined as the sum of the per-datapoint loss over all training examples. It is possible to add a new datapoint to a training set that would leave the SVM loss unchanged, but this is not the case with the Softmax classifier loss.\n",
    "\n",
    "$\\color{blue}{\\textit Your Answer:}$\n",
    "True\n",
    "\n",
    "$\\color{blue}{\\textit Your Explanation:}$\n",
    "A new data point that's placed within the decision boundaries of the SVM such that its can classify that point correctly will add nothing to the loss, because the hinge loss of correctly scored examples is 0. Adding a point to the Softmax classifier's data will increase the loss whether the class is identified correctly or not, because the loss of even correctly classified examples is nonzero if the distribution of scores is not exactly one-hot.\n"
   ]
  },
  {
   "cell_type": "code",
   "execution_count": 107,
   "metadata": {},
   "outputs": [
    {
     "data": {
      "image/png": "[encoded data removed]",
      "text/plain": [
       "<Figure size 432x288 with 10 Axes>"
      ]
     },
     "metadata": {
      "needs_background": "light"
     },
     "output_type": "display_data"
    }
   ],
   "source": [
    "# Visualize the learned weights for each class\n",
    "w = best_softmax.W[:-1,:] # strip out the bias\n",
    "w = w.reshape(32, 32, 3, 10)\n",
    "\n",
    "w_min, w_max = np.min(w), np.max(w)\n",
    "\n",
    "classes = ['plane', 'car', 'bird', 'cat', 'deer', 'dog', 'frog', 'horse', 'ship', 'truck']\n",
    "for i in range(10):\n",
    "    plt.subplot(2, 5, i + 1)\n",
    "    \n",
    "    # Rescale the weights to be between 0 and 255\n",
    "    wimg = 255.0 * (w[:, :, :, i].squeeze() - w_min) / (w_max - w_min)\n",
    "    plt.imshow(wimg.astype('uint8'))\n",
    "    plt.axis('off')\n",
    "    plt.title(classes[i])"
   ]
  },
  {
   "cell_type": "code",
   "execution_count": null,
   "metadata": {},
   "outputs": [],
   "source": []
  }
 ],
 "metadata": {
  "kernelspec": {
   "display_name": "Python 3",
   "language": "python",
   "name": "python3"
  },
  "language_info": {
   "codemirror_mode": {
    "name": "ipython",
    "version": 3
   },
   "file_extension": ".py",
   "mimetype": "text/x-python",
   "name": "python",
   "nbconvert_exporter": "python",
   "pygments_lexer": "ipython3",
   "version": "3.7.1"
  }
 },
 "nbformat": 4,
 "nbformat_minor": 1
}
